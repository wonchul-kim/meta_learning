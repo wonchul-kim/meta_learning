{
 "cells": [
  {
   "cell_type": "markdown",
   "metadata": {},
   "source": [
    "# Meta Learning \n",
    "#### : For learning to learn (meta-learning >>> learner)\n",
    "\n",
    "* Considering one of key aspect of intelligence is versatility,\n",
    "* To enable the agents to learn how to learn new tasks faster by reusing previous experience, rather than considering each new task in isoloation.\n",
    "\n",
    "\n",
    "> Specifically used for:\n",
    "* hyperparamers and nueral network optimization\n",
    "* fining good network architectures\n",
    "* few-shor image recognition\n",
    "* [faster reinforcement learning](https://arxiv.org/abs/1611.05763)\n",
    ">> Methods for meta-learning:\n",
    "    * recurrent models\n",
    "    * metric learning\n",
    "    * learning optimizers\n",
    "    "
   ]
  },
  {
   "cell_type": "code",
   "execution_count": null,
   "metadata": {},
   "outputs": [],
   "source": []
  }
 ],
 "metadata": {
  "kernelspec": {
   "display_name": "Python 3",
   "language": "python",
   "name": "python3"
  },
  "language_info": {
   "codemirror_mode": {
    "name": "ipython",
    "version": 3
   },
   "file_extension": ".py",
   "mimetype": "text/x-python",
   "name": "python",
   "nbconvert_exporter": "python",
   "pygments_lexer": "ipython3",
   "version": "3.6.5"
  }
 },
 "nbformat": 4,
 "nbformat_minor": 2
}
